{
 "cells": [
  {
   "cell_type": "code",
   "execution_count": null,
   "id": "9a0603e8-8a7c-46fc-84b3-d446234a6ced",
   "metadata": {},
   "outputs": [],
   "source": [
    "\"\"\"\n",
    "1. Search for an open opportunity at your possible potential clients\n",
    "2. Search for relevant information from the opening that might act as a good starting point for your business with this company\n",
    "3. Go through all of your company's projects and find relevant projects\n",
    "4. Get important to share information about these projects\n",
    "5. Write a compelling cold email about how your firm can be of great service to your potential client\n",
    "6. Repeat for ALL potential clients\n",
    "\"\"\""
   ]
  },
  {
   "cell_type": "code",
   "execution_count": null,
   "id": "aad48be4-9c44-490f-aa94-13364f771b76",
   "metadata": {},
   "outputs": [],
   "source": [
    "# Web Scraping\n",
    "\n",
    "# Relevant information\n",
    "\n",
    "# Chromadb query\n",
    "\n",
    "# Email Generation"
   ]
  },
  {
   "cell_type": "code",
   "execution_count": 1,
   "id": "685b8927-ed29-4368-942e-674687505402",
   "metadata": {},
   "outputs": [
    {
     "name": "stdout",
     "output_type": "stream",
     "text": [
      "\u001b[1mLoading .env environment variables...\u001b[0m\n",
      "\u001b[1;32mInstalling langchain_community\u001b[0m\u001b[1;33m...\u001b[0m\n",
      "\u001b[?25lResolving langchain_community\u001b[33m...\u001b[0m\n",
      "\u001b[2K\u001b[1mAdded \u001b[0m\u001b[1;32mlangchain-community\u001b[0m to Pipfile's \u001b[1;33m[\u001b[0m\u001b[33mpackages\u001b[0m\u001b[1;33m]\u001b[0m \u001b[33m...\u001b[0m\n",
      "\u001b[2K✔ Installation Succeededain_community...\n",
      "\u001b[2K\u001b[32m⠋\u001b[0m Installing langchain_community...\n",
      "\u001b[1A\u001b[2K\u001b[1;33mPipfile.lock \u001b[0m\u001b[1;33m(\u001b[0m\u001b[1;33mf6673e\u001b[0m\u001b[1;33m)\u001b[0m\u001b[1;33m out of date, updating to \u001b[0m\u001b[1;33m(\u001b[0m\u001b[1;33m36fc99\u001b[0m\u001b[1;33m)\u001b[0m\u001b[1;33m...\u001b[0m\n",
      "Locking\u001b[0m \u001b[33m[packages]\u001b[0m dependencies...\u001b[0m\n",
      "\u001b[?25lBuilding requirements\u001b[33m...\u001b[0m\n",
      "\u001b[2KResolving dependencies\u001b[33m...\u001b[0m\n",
      "\u001b[2K✔ Success! Locking...\n",
      "\u001b[2K\u001b[32m⠏\u001b[0m Locking...\n",
      "\u001b[1A\u001b[2KLocking\u001b[0m \u001b[33m[dev-packages]\u001b[0m dependencies...\u001b[0m\n",
      "\u001b[1mUpdated Pipfile.lock (e47eb3faf2be684b9139b2b625984300cea045c343a0c8f7369ffab3ac36fc99)!\u001b[0m\n",
      "\u001b[1mInstalling dependencies from Pipfile.lock \u001b[0m\u001b[1m(\u001b[0m\u001b[1m36fc99\u001b[0m\u001b[1m)\u001b[0m\u001b[1;33m...\u001b[0m\n"
     ]
    }
   ],
   "source": [
    "# Web Scraping\n",
    "!pipenv install langchain_community"
   ]
  },
  {
   "cell_type": "code",
   "execution_count": 8,
   "id": "9613f907-dc8d-45a8-8406-0938cf240a87",
   "metadata": {},
   "outputs": [],
   "source": [
    "from langchain_community.document_loaders import WebBaseLoader\n",
    "\n",
    "loader = WebBaseLoader(\"https://meinestadt.jobs.personio.de/job/1757093?language=en&display=de\")\n",
    "page_data = loader.load().pop().page_content\n",
    "#print(page_data)"
   ]
  },
  {
   "cell_type": "code",
   "execution_count": 10,
   "id": "f3dbb47b-62b4-469d-8c9f-406bee2d36ed",
   "metadata": {},
   "outputs": [],
   "source": [
    "from langchain_groq import ChatGroq\n",
    "\n",
    "llm = ChatGroq(\n",
    "    model=\"llama-3.1-70b-versatile\",\n",
    "    temperature=0,\n",
    "    max_tokens=None,\n",
    "    timeout=None,\n",
    "    max_retries=2,\n",
    "    # other params...\n",
    ")\n",
    "\n",
    "#response = llm.invoke(\"Who is the best footballer of all times?, no preamble\")\n",
    "#print(response.content)"
   ]
  },
  {
   "cell_type": "code",
   "execution_count": 16,
   "id": "e03a121e-3de3-46f0-8962-894a9db78b25",
   "metadata": {},
   "outputs": [
    {
     "name": "stdout",
     "output_type": "stream",
     "text": [
      "<class 'str'>\n",
      "```\n",
      "{\n",
      "  \"role\": \"Team Lead Software Engineering\",\n",
      "  \"experience\": \"Several years of software engineering experience coupled with more than 2 years in leadership roles\",\n",
      "  \"skills\": [\n",
      "    \"Solid technical expertise in designing and developing large-scale, end-to-end software solutions\",\n",
      "    \"Approach complex issues with an open mindset and a focus on achieving simplicity\",\n",
      "    \"Passionate about people, offering support and guidance to your engineers while avoiding micromanagement\",\n",
      "    \"Skilled at rapidly establishing relationships with stakeholders and maintaining a solution-focused approach\",\n",
      "    \"Capable of building high-performing, self-sufficient teams that effectively balance speed, quality, and risk\"\n",
      "  ],\n",
      "  \"description\": \"You will motivate, supervise and guide a software development team in disciplinary and technical terms. Establish personalized development or improvement plans, hold regular one-on-one meetings with team members, and cultivate a feedback-rich, non-retaliatory environment that encourages open communication.\"\n",
      "}\n",
      "```\n"
     ]
    }
   ],
   "source": [
    "from langchain_core.prompts import PromptTemplate\n",
    "\n",
    "prompt_extract = PromptTemplate.from_template(\n",
    "    \"\"\"\n",
    "    I will give you scraped text from the job posting. \n",
    "    Your job is to extract the job details & requirements in a JSON format containing the following keys: 'role', 'experience', 'skills', and 'description'. \n",
    "    Only return valid JSON. No preamble, please.\n",
    "    Here is the scraped text: {page_data}\n",
    "    \"\"\"\n",
    ")\n",
    "\n",
    "chain_extract = prompt_extract | llm \n",
    "response = chain_extract.invoke(input={'page_data':page_data})\n",
    "print(type(response.content))\n",
    "print(response.content)"
   ]
  },
  {
   "cell_type": "code",
   "execution_count": 17,
   "id": "85263c0a-e670-4129-bd63-5948fd821378",
   "metadata": {},
   "outputs": [
    {
     "name": "stdout",
     "output_type": "stream",
     "text": [
      "<class 'dict'>\n"
     ]
    }
   ],
   "source": [
    "from langchain_core.output_parsers import JsonOutputParser\n",
    "\n",
    "json_parser = JsonOutputParser()\n",
    "json_response = json_parser.parse(response.content)\n",
    "print(type(json_response))"
   ]
  },
  {
   "cell_type": "code",
   "execution_count": 18,
   "id": "0e6209c7-3d4c-46df-9b88-25da16160396",
   "metadata": {},
   "outputs": [
    {
     "name": "stdout",
     "output_type": "stream",
     "text": [
      "('Python', ' SQL', ' Pandas')  https://github.com/user/project1\n",
      "('SQL', ' Python', ' Airflow')  https://github.com/user/project2\n",
      "('PySpark', ' Spark SQL', ' Delta Lake')  https://github.com/user/project3\n",
      "('Machine Learning', ' Deep Learning', ' TensorFlow')  https://github.com/user/project4\n",
      "('Data Engineering', ' ETL', ' ELT')  https://github.com/user/project5\n",
      "('Cloud Platforms (AWS', ' GCP', ' Azure)')  https://github.com/user/project6\n",
      "('Data Warehousing', ' Data Modeling', ' DBT')  https://github.com/user/project7\n",
      "('Data Visualization', ' Power BI', ' Tableau')  https://github.com/user/project8\n",
      "('MLOps', ' MLflow', ' Kubeflow')  https://github.com/user/project9\n",
      "('Natural Language Processing (NLP)', ' NLTK', ' spaCy')  https://github.com/user/project10\n",
      "('Computer Vision', ' OpenCV', ' TensorFlow')  https://github.com/user/project11\n",
      "('Time Series Analysis', ' Forecasting', ' Prophet')  https://github.com/user/project12\n",
      "('Data Cleaning', ' Data Wrangling', ' Pandas')  https://github.com/user/project13\n",
      "('Feature Engineering', ' Scikit-learn')  https://github.com/user/project14\n",
      "('Statistical Analysis', ' Hypothesis Testing')  https://github.com/user/project15\n",
      "('Data Ethics', ' Privacy', ' GDPR')  https://github.com/user/project16\n",
      "('Big Data', ' Hadoop', ' Spark')  https://github.com/user/project17\n",
      "('Data Governance', ' Data Quality', ' Metadata Management')  https://github.com/user/project18\n",
      "('Data Security', ' Encryption', ' Tokenization')  https://github.com/user/project19\n",
      "('Cloud Data Engineering', ' AWS Glue', ' Databricks')  https://github.com/user/project20\n"
     ]
    }
   ],
   "source": [
    "import csv\n",
    "\n",
    "def read_csv_file(file_path):\n",
    "    data = []\n",
    "    with open(file_path, 'r') as file:\n",
    "        csv_reader = csv.reader(file)\n",
    "        # Skip the header row\n",
    "        next(csv_reader)\n",
    "        for row in csv_reader:\n",
    "            # Separate technical skills (list) and project link (string)\n",
    "            skills = tuple(row[:-1])  # Exclude the last element (project link)\n",
    "            project_link = row[-1]  # Get the last element (project link)\n",
    "            data.append((skills, project_link))  # Create a tuple with skills and link\n",
    "    return data\n",
    "\n",
    "# Example usage:\n",
    "file_path = 'sample_portfolio.csv'  # Replace with your actual file path\n",
    "data = read_csv_file(file_path)\n",
    "\n",
    "for skills, project_link in data:\n",
    "    print(skills, project_link)\n",
    "    #print(project_link)\n"
   ]
  },
  {
   "cell_type": "code",
   "execution_count": 21,
   "id": "96134af6-996c-4137-8d67-5fa6d02d215a",
   "metadata": {},
   "outputs": [],
   "source": [
    "# Insert data into Vector Database\n",
    "\n",
    "import uuid\n",
    "import chromadb\n",
    "\n",
    "client = chromadb.PersistentClient('vectorstore')\n",
    "collection = client.get_or_create_collection(name='portfolio_links')\n",
    "\n",
    "if not collection.count():\n",
    "    for skills, project_url in data:\n",
    "        collection.add(\n",
    "            documents=str(skills),\n",
    "            metadatas={'portfolio_url':project_url},\n",
    "            ids=[str(uuid.uuid4())]\n",
    "        )"
   ]
  },
  {
   "cell_type": "code",
   "execution_count": 39,
   "id": "33152e8e-4137-4e13-8fd0-ca794c2c33c6",
   "metadata": {},
   "outputs": [
    {
     "data": {
      "text/plain": [
       "['Solid technical expertise in designing and developing large-scale, end-to-end software solutions',\n",
       " 'Approach complex issues with an open mindset and a focus on achieving simplicity',\n",
       " 'Passionate about people, offering support and guidance to your engineers while avoiding micromanagement',\n",
       " 'Skilled at rapidly establishing relationships with stakeholders and maintaining a solution-focused approach',\n",
       " 'Capable of building high-performing, self-sufficient teams that effectively balance speed, quality, and risk']"
      ]
     },
     "execution_count": 39,
     "metadata": {},
     "output_type": "execute_result"
    }
   ],
   "source": [
    "json_response['skills']"
   ]
  },
  {
   "cell_type": "code",
   "execution_count": 40,
   "id": "842ed2b7-8667-4345-93b4-8d8c2df46850",
   "metadata": {},
   "outputs": [
    {
     "data": {
      "text/plain": [
       "{'ids': [['b439c653-dc31-4c77-bca0-194e24a10f26',\n",
       "   '1d98088e-54af-49fa-9f04-75dec617b791'],\n",
       "  ['463e7751-bc4c-4a5e-ba26-81019b6ba6db',\n",
       "   'b439c653-dc31-4c77-bca0-194e24a10f26'],\n",
       "  ['b439c653-dc31-4c77-bca0-194e24a10f26',\n",
       "   '66bed47a-a4a0-4fea-8322-cf715f345721'],\n",
       "  ['2e476477-4ef5-45ea-8c43-c59ac3bee24c',\n",
       "   'b439c653-dc31-4c77-bca0-194e24a10f26'],\n",
       "  ['2e476477-4ef5-45ea-8c43-c59ac3bee24c',\n",
       "   '66bed47a-a4a0-4fea-8322-cf715f345721']],\n",
       " 'embeddings': None,\n",
       " 'documents': [[\"('Feature Engineering', ' Scikit-learn')\",\n",
       "   \"('Cloud Data Engineering', ' AWS Glue', ' Databricks')\"],\n",
       "  [\"('Data Ethics', ' Privacy', ' GDPR')\",\n",
       "   \"('Feature Engineering', ' Scikit-learn')\"],\n",
       "  [\"('Feature Engineering', ' Scikit-learn')\",\n",
       "   \"('Data Engineering', ' ETL', ' ELT')\"],\n",
       "  [\"('Data Governance', ' Data Quality', ' Metadata Management')\",\n",
       "   \"('Feature Engineering', ' Scikit-learn')\"],\n",
       "  [\"('Data Governance', ' Data Quality', ' Metadata Management')\",\n",
       "   \"('Data Engineering', ' ETL', ' ELT')\"]],\n",
       " 'uris': None,\n",
       " 'data': None,\n",
       " 'metadatas': [[{'portfolio_url': ' https://github.com/user/project14'},\n",
       "   {'portfolio_url': ' https://github.com/user/project20'}],\n",
       "  [{'portfolio_url': ' https://github.com/user/project16'},\n",
       "   {'portfolio_url': ' https://github.com/user/project14'}],\n",
       "  [{'portfolio_url': ' https://github.com/user/project14'},\n",
       "   {'portfolio_url': ' https://github.com/user/project5'}],\n",
       "  [{'portfolio_url': ' https://github.com/user/project18'},\n",
       "   {'portfolio_url': ' https://github.com/user/project14'}],\n",
       "  [{'portfolio_url': ' https://github.com/user/project18'},\n",
       "   {'portfolio_url': ' https://github.com/user/project5'}]],\n",
       " 'distances': [[1.2265833261509762, 1.241232348265635],\n",
       "  [1.5757096081742448, 1.592005051234445],\n",
       "  [1.324851282074363, 1.3776893882421353],\n",
       "  [1.4086990729285973, 1.5165570211003738],\n",
       "  [1.514604314758195, 1.5435843191584284]],\n",
       " 'included': [<IncludeEnum.distances: 'distances'>,\n",
       "  <IncludeEnum.documents: 'documents'>,\n",
       "  <IncludeEnum.metadatas: 'metadatas'>]}"
      ]
     },
     "execution_count": 40,
     "metadata": {},
     "output_type": "execute_result"
    }
   ],
   "source": [
    "portfolio_urls = collection.query(query_texts=json_response['skills'], n_results=2)\n",
    "portfolio_urls"
   ]
  },
  {
   "cell_type": "code",
   "execution_count": 37,
   "id": "b954cef6-ef23-4824-8d32-491cc39a068a",
   "metadata": {},
   "outputs": [],
   "source": [
    "job_description = json_response['description']"
   ]
  },
  {
   "cell_type": "code",
   "execution_count": 41,
   "id": "a71ec082-6412-4d14-ac88-af3ee6845bbe",
   "metadata": {},
   "outputs": [
    {
     "name": "stdout",
     "output_type": "stream",
     "text": [
      "Subject: Expert Guidance for Your Software Development Team\n",
      "\n",
      "Dear [Hiring Manager's Name],\n",
      "\n",
      "I came across your job posting for a Team Lead/Manager to supervise and guide a software development team. As a Business Development Officer at X Consulting firm, I was impressed by your company's commitment to innovation and excellence.\n",
      "\n",
      "At X Consulting, we specialize in providing tailored Data Science and AI solutions that drive business growth while keeping costs down. Our team of experts has a proven track record of delivering high-quality projects on time. I'd like to highlight a few examples of our work that demonstrate our expertise in software development and team management:\n",
      "\n",
      "* Our project on Feature Engineering using Scikit-learn showcases our ability to develop and implement efficient software solutions. You can find more details here: https://github.com/user/project14\n",
      "* Another project that demonstrates our expertise in Data Engineering using ETL and ELT can be found here: https://github.com/user/project5\n",
      "\n",
      "Our team is well-equipped to provide guidance and support to your software development team, ensuring that they have the necessary skills and resources to deliver high-quality projects. We believe that our expertise can help your team thrive and contribute to your company's success.\n",
      "\n",
      "I'd love to discuss how our team can support your software development team and explore potential collaboration opportunities. Please let me know if you're available for a call to discuss further.\n",
      "\n",
      "Best regards,\n",
      "\n",
      "Hassan\n",
      "Business Development Officer\n",
      "X Consulting firm\n",
      "[hassan@xconsultingfirm.com](mailto:hassan@xconsultingfirm.com)\n",
      "+1234567890\n"
     ]
    }
   ],
   "source": [
    "email_prompt = PromptTemplate.from_template(\n",
    "    \"\"\"\n",
    "    I will give you a role and a task that you have to perform in that specific role.\n",
    "    Your Role: Your name is Hassan, You are an incredible business development officer who knows how to get clients. You work for X Consulting firm, your firm works with all sorts of IT clients and provide solutions in the domain of Data Science and AI. \n",
    "    X AI focuses on efficient tailored solutions for all clients keeping costs down. \n",
    "    Your Job: Your Job is to write cold emails to clients regarding the Job openings that they have advertised. Try to pitch your clients with an email hook that opens a conversation about a possibility of working with them. Add the most relevant portfolio URLs from\n",
    "    the following (shared below) to showcase that we have the right expertise to get the job done. \n",
    "    I will now provide you with the Job description and the portfolio URLs:\n",
    "    JOB DESCRIPTION: {job_description}\n",
    "    ------\n",
    "    PORTFOLIO URLS: {portfolio_urls}\n",
    "    \"\"\"\n",
    ")\n",
    "\n",
    "chain_email = email_prompt | llm\n",
    "response = chain_email.invoke({'job_description':job_description, 'portfolio_urls':portfolio_urls})\n",
    "print(response.content)"
   ]
  },
  {
   "cell_type": "code",
   "execution_count": null,
   "id": "58fffb96-54db-4e93-9f2c-11e8289bd807",
   "metadata": {},
   "outputs": [],
   "source": []
  }
 ],
 "metadata": {
  "kernelspec": {
   "display_name": "cold-email-generator",
   "language": "python",
   "name": "cold-email-generator"
  },
  "language_info": {
   "codemirror_mode": {
    "name": "ipython",
    "version": 3
   },
   "file_extension": ".py",
   "mimetype": "text/x-python",
   "name": "python",
   "nbconvert_exporter": "python",
   "pygments_lexer": "ipython3",
   "version": "3.11.8"
  }
 },
 "nbformat": 4,
 "nbformat_minor": 5
}
