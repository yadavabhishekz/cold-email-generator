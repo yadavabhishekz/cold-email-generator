{
 "cells": [
  {
   "cell_type": "code",
   "execution_count": 1,
   "id": "065b3833-6a58-4c6a-8e9c-bce47faeffc1",
   "metadata": {},
   "outputs": [
    {
     "name": "stdout",
     "output_type": "stream",
     "text": [
      "\u001b[1mLoading .env environment variables...\u001b[0m\n",
      "\u001b[1;32mInstalling langchain_groq\u001b[0m\u001b[1;33m...\u001b[0m\n",
      "\u001b[?25lResolving langchain_groq\u001b[33m...\u001b[0m\n",
      "\u001b[2K\u001b[1mAdded \u001b[0m\u001b[1;32mlangchain-groq\u001b[0m to Pipfile's \u001b[1;33m[\u001b[0m\u001b[33mpackages\u001b[0m\u001b[1;33m]\u001b[0m \u001b[33m...\u001b[0m\n",
      "\u001b[2K✔ Installation Succeededain_groq...\n",
      "\u001b[2K\u001b[32m⠋\u001b[0m Installing langchain_groq...\n",
      "\u001b[1A\u001b[2K\u001b[1;33mPipfile.lock \u001b[0m\u001b[1;33m(\u001b[0m\u001b[1;33m7970c8\u001b[0m\u001b[1;33m)\u001b[0m\u001b[1;33m out of date, updating to \u001b[0m\u001b[1;33m(\u001b[0m\u001b[1;33ma4a4c5\u001b[0m\u001b[1;33m)\u001b[0m\u001b[1;33m...\u001b[0m\n",
      "Locking\u001b[0m \u001b[33m[packages]\u001b[0m dependencies...\u001b[0m\n",
      "\u001b[?25lBuilding requirements\u001b[33m...\u001b[0m\n",
      "\u001b[2KResolving dependencies\u001b[33m...\u001b[0m\n",
      "\u001b[2K✔ Success! Locking...\n",
      "\u001b[2K\u001b[32m⠹\u001b[0m Locking...\n",
      "\u001b[1A\u001b[2KLocking\u001b[0m \u001b[33m[dev-packages]\u001b[0m dependencies...\u001b[0m\n",
      "\u001b[1mUpdated Pipfile.lock (cb71162bb8871060b4c1ad105a45f13367852b41a5a79849acf6bda63fa4a4c5)!\u001b[0m\n",
      "\u001b[1mInstalling dependencies from Pipfile.lock \u001b[0m\u001b[1m(\u001b[0m\u001b[1ma4a4c5\u001b[0m\u001b[1m)\u001b[0m\u001b[1;33m...\u001b[0m\n"
     ]
    }
   ],
   "source": [
    "!pipenv install langchain_groq"
   ]
  },
  {
   "cell_type": "code",
   "execution_count": 5,
   "id": "bb6892ac-999e-40f4-beee-c72d2c51fee2",
   "metadata": {},
   "outputs": [
    {
     "name": "stdout",
     "output_type": "stream",
     "text": [
      "Lionel Messi.\n"
     ]
    }
   ],
   "source": [
    "from langchain_groq import ChatGroq\n",
    "\n",
    "llm = ChatGroq(\n",
    "    model=\"llama-3.1-70b-versatile\",\n",
    "    temperature=0,\n",
    "    max_tokens=None,\n",
    "    timeout=None,\n",
    "    max_retries=2,\n",
    "    # other params...\n",
    ")\n",
    "\n",
    "response = llm.invoke(\"Who is the best footballer of all times?, no preamble\")\n",
    "print(response.content)"
   ]
  },
  {
   "cell_type": "code",
   "execution_count": 6,
   "id": "22657bb3-fdcc-4fe1-9a1a-505269edb3c3",
   "metadata": {},
   "outputs": [
    {
     "name": "stdout",
     "output_type": "stream",
     "text": [
      "\u001b[1mLoading .env environment variables...\u001b[0m\n",
      "\u001b[1;32mInstalling chromadb\u001b[0m\u001b[1;33m...\u001b[0m\n",
      "\u001b[?25lResolving chromadb\u001b[33m...\u001b[0m\n",
      "\u001b[2K\u001b[1mAdded \u001b[0m\u001b[1;32mchromadb\u001b[0m to Pipfile's \u001b[1;33m[\u001b[0m\u001b[33mpackages\u001b[0m\u001b[1;33m]\u001b[0m \u001b[33m...\u001b[0m\n",
      "\u001b[2K✔ Installation Succeededdb...\n",
      "\u001b[2K\u001b[32m⠋\u001b[0m Installing chromadb...\n",
      "\u001b[1A\u001b[2K\u001b[1;33mPipfile.lock \u001b[0m\u001b[1;33m(\u001b[0m\u001b[1;33ma4a4c5\u001b[0m\u001b[1;33m)\u001b[0m\u001b[1;33m out of date, updating to \u001b[0m\u001b[1;33m(\u001b[0m\u001b[1;33mf6673e\u001b[0m\u001b[1;33m)\u001b[0m\u001b[1;33m...\u001b[0m\n",
      "Locking\u001b[0m \u001b[33m[packages]\u001b[0m dependencies...\u001b[0m\n",
      "\u001b[?25lBuilding requirements\u001b[33m...\u001b[0m\n",
      "\u001b[2KResolving dependencies\u001b[33m...\u001b[0m\n",
      "\u001b[2K✔ Success! Locking...\n",
      "\u001b[2K\u001b[32m⠏\u001b[0m Locking...\n",
      "\u001b[1A\u001b[2KLocking\u001b[0m \u001b[33m[dev-packages]\u001b[0m dependencies...\u001b[0m\n",
      "\u001b[1mUpdated Pipfile.lock (d8433306421b19af099f59ea41993f85c926fcf5f165d9e629841cf4e4f6673e)!\u001b[0m\n",
      "\u001b[1mInstalling dependencies from Pipfile.lock \u001b[0m\u001b[1m(\u001b[0m\u001b[1mf6673e\u001b[0m\u001b[1m)\u001b[0m\u001b[1;33m...\u001b[0m\n"
     ]
    }
   ],
   "source": [
    "# Setup Chromadb\n",
    "!pipenv install chromadb"
   ]
  },
  {
   "cell_type": "code",
   "execution_count": 7,
   "id": "083d85c3-2989-4325-88d2-bfaa8e7ee4d8",
   "metadata": {},
   "outputs": [],
   "source": [
    "import chromadb\n",
    "\n",
    "client = chromadb.Client()\n",
    "collection = client.create_collection(name=\"my_collection\")"
   ]
  },
  {
   "cell_type": "code",
   "execution_count": 8,
   "id": "adbb2533-d99b-45e5-b995-5b1bc490f648",
   "metadata": {},
   "outputs": [],
   "source": [
    "collection.add(\n",
    "    documents=[\n",
    "        \"I like eating apple everyday\",\n",
    "        \"I like my apple iphone\",\n",
    "        \"Do you like apple?\"\n",
    "    ],\n",
    "    ids=[\"id1\", \"id2\", \"id3\"],\n",
    "    metadatas=[\n",
    "        {\"url\": \"source_to_id_1\"},\n",
    "        {\"url\": \"source_to_id_2\"},\n",
    "        {\"url\": \"source_to_id_3\"},\n",
    "    ]\n",
    ")\n",
    "    "
   ]
  },
  {
   "cell_type": "code",
   "execution_count": 9,
   "id": "ce1128d4-d600-4423-a5dc-67f5a553b4f6",
   "metadata": {},
   "outputs": [
    {
     "name": "stdout",
     "output_type": "stream",
     "text": [
      "{'ids': ['id1', 'id2', 'id3'], 'embeddings': None, 'documents': ['I like eating apple everyday', 'I like my apple iphone', 'Do you like apple?'], 'uris': None, 'data': None, 'metadatas': [{'url': 'source_to_id_1'}, {'url': 'source_to_id_2'}, {'url': 'source_to_id_3'}], 'included': [<IncludeEnum.documents: 'documents'>, <IncludeEnum.metadatas: 'metadatas'>]}\n"
     ]
    }
   ],
   "source": [
    "print(collection.get())"
   ]
  },
  {
   "cell_type": "code",
   "execution_count": 10,
   "id": "30070503-1c1c-4029-9d75-4a93c96dca9b",
   "metadata": {},
   "outputs": [
    {
     "name": "stdout",
     "output_type": "stream",
     "text": [
      "{'ids': ['id1'], 'embeddings': None, 'documents': ['I like eating apple everyday'], 'uris': None, 'data': None, 'metadatas': [{'url': 'source_to_id_1'}], 'included': [<IncludeEnum.documents: 'documents'>, <IncludeEnum.metadatas: 'metadatas'>]}\n"
     ]
    }
   ],
   "source": [
    "print(collection.get(ids=[\"id1\"]))"
   ]
  },
  {
   "cell_type": "code",
   "execution_count": 15,
   "id": "640f20d4-f8ee-4fd6-97f8-7feb9006bbb1",
   "metadata": {},
   "outputs": [
    {
     "data": {
      "text/plain": [
       "{'ids': [['id1', 'id3']],\n",
       " 'embeddings': None,\n",
       " 'documents': [['I like eating apple everyday', 'Do you like apple?']],\n",
       " 'uris': None,\n",
       " 'data': None,\n",
       " 'metadatas': [[{'url': 'source_to_id_1'}, {'url': 'source_to_id_3'}]],\n",
       " 'distances': [[0.9925782680511475, 1.4635143280029297]],\n",
       " 'included': [<IncludeEnum.distances: 'distances'>,\n",
       "  <IncludeEnum.documents: 'documents'>,\n",
       "  <IncludeEnum.metadatas: 'metadatas'>]}"
      ]
     },
     "execution_count": 15,
     "metadata": {},
     "output_type": "execute_result"
    }
   ],
   "source": [
    "collection.query(query_texts=[\"Do you eat healthy?\"], n_results=2)"
   ]
  },
  {
   "cell_type": "code",
   "execution_count": null,
   "id": "ae1b6340-6509-415a-bb85-c38322ebfb1b",
   "metadata": {},
   "outputs": [],
   "source": []
  }
 ],
 "metadata": {
  "kernelspec": {
   "display_name": "my-virtualenv-name",
   "language": "python",
   "name": "my-virtualenv-name"
  },
  "language_info": {
   "codemirror_mode": {
    "name": "ipython",
    "version": 3
   },
   "file_extension": ".py",
   "mimetype": "text/x-python",
   "name": "python",
   "nbconvert_exporter": "python",
   "pygments_lexer": "ipython3",
   "version": "3.12.0"
  }
 },
 "nbformat": 4,
 "nbformat_minor": 5
}
